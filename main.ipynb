{
 "cells": [
  {
   "cell_type": "code",
   "execution_count": null,
   "id": "0914558b",
   "metadata": {},
   "outputs": [
    {
     "ename": "",
     "evalue": "",
     "output_type": "error",
     "traceback": [
      "\u001b[1;31mThe Kernel crashed while executing code in the current cell or a previous cell. \n",
      "\u001b[1;31mPlease review the code in the cell(s) to identify a possible cause of the failure. \n",
      "\u001b[1;31mClick <a href='https://aka.ms/vscodeJupyterKernelCrash'>here</a> for more info. \n",
      "\u001b[1;31mView Jupyter <a href='command:jupyter.viewOutput'>log</a> for further details."
     ]
    }
   ],
   "source": [
    "import cv2\n",
    "import torch\n",
    "from detectron2.config import get_cfg\n",
    "from detectron2.engine import DefaultPredictor\n"
   ]
  },
  {
   "cell_type": "code",
   "execution_count": null,
   "id": "d769e61f",
   "metadata": {},
   "outputs": [],
   "source": [
    "cfg = get_cfg()\n",
    "\n",
    "cfg.merge_from_file(\"idol-ipsc-ext_reorg_roi_g2_54_126_ytvis_swinL.yaml\")\n",
    "\n",
    "cfg.MODEL.WEIGHTS = \"iPSC.pth\"\n",
    "\n",
    "cfg.MODEL.DEVICE = \"cuda\" if torch.cuda.is_available() else \"cpu\"\n",
    "predictor = DefaultPredictor(cfg)\n"
   ]
  },
  {
   "cell_type": "code",
   "execution_count": null,
   "id": "b336d11d",
   "metadata": {},
   "outputs": [],
   "source": [
    "image = cv2.imread(\"image146.jpg\")\n",
    "outputs = predictor(image)"
   ]
  },
  {
   "cell_type": "code",
   "execution_count": null,
   "id": "d894a2be",
   "metadata": {},
   "outputs": [],
   "source": [
    "masks = outputs[\"instances\"].pred_masks.cpu().numpy() if outputs[\"instances\"].has(\"pred_masks\") else None\n",
    "labels = outputs[\"instances\"].pred_classes.cpu().numpy() if outputs[\"instances\"].has(\"pred_classes\") else None\n",
    "scores = outputs[\"instances\"].scores.cpu().numpy() if outputs[\"instances\"].has(\"scores\") else None\n",
    "\n",
    "print(\"Masks shape:\", None if masks is None else masks.shape)\n",
    "print(\"Labels:\", labels)\n",
    "print(\"Scores:\", scores)\n"
   ]
  }
 ],
 "metadata": {
  "kernelspec": {
   "display_name": "base",
   "language": "python",
   "name": "python3"
  },
  "language_info": {
   "codemirror_mode": {
    "name": "ipython",
    "version": 3
   },
   "file_extension": ".py",
   "mimetype": "text/x-python",
   "name": "python",
   "nbconvert_exporter": "python",
   "pygments_lexer": "ipython3",
   "version": "3.12.7"
  }
 },
 "nbformat": 4,
 "nbformat_minor": 5
}
